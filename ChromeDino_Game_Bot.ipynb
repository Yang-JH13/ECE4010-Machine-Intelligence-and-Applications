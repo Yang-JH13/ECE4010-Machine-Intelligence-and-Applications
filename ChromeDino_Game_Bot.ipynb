{
 "cells": [
  {
   "cell_type": "markdown",
   "id": "dc6bb885",
   "metadata": {},
   "source": [
    "# AI for Google Chrome Dino Game"
   ]
  },
  {
   "cell_type": "markdown",
   "id": "7d77dc82",
   "metadata": {},
   "source": [
    "### Description: \n",
    "This is a simple AI program for the Chrome Dino game. The program will capture the screen image in real time and determine what instructions should be input to the game. The purpose of the program is to allow the dinosaur to pass more obstacles (that is, to survive longer). Next, I will gradually achieve this goal."
   ]
  },
  {
   "cell_type": "markdown",
   "id": "382fc1bb",
   "metadata": {},
   "source": [
    "##### Step1. Import Dependencies\n",
    "Import all needed dependencies"
   ]
  },
  {
   "cell_type": "code",
   "execution_count": 1,
   "id": "43530b2d",
   "metadata": {
    "scrolled": true
   },
   "outputs": [],
   "source": [
    "import os \n",
    "import cv2\n",
    "import time\n",
    "import pydirectinput\n",
    "import pytesseract\n",
    "import numpy as np\n",
    "from mss import mss\n",
    "from matplotlib import pyplot as plt\n",
    "import gymnasium as gym\n",
    "from gymnasium import Env\n",
    "from gymnasium.spaces import Box, Discrete\n",
    "from stable_baselines3 import DQN\n",
    "from stable_baselines3.common import env_checker\n",
    "from stable_baselines3.common.callbacks import BaseCallback \n",
    "from stable_baselines3.common.monitor import Monitor\n",
    "from stable_baselines3.common.vec_env import DummyVecEnv, VecFrameStack"
   ]
  },
  {
   "cell_type": "code",
   "execution_count": 2,
   "id": "e44ccfac-5e0e-46a1-b078-672cb8d31288",
   "metadata": {},
   "outputs": [],
   "source": [
    "pytesseract.pytesseract.tesseract_cmd = r'D:\\Tesseract-OCR\\tesseract.exe'"
   ]
  },
  {
   "cell_type": "code",
   "execution_count": 3,
   "id": "30f36370-f76e-43c7-b84a-ceb69c65e650",
   "metadata": {},
   "outputs": [
    {
     "name": "stdout",
     "output_type": "stream",
     "text": [
      "1.24.2\n"
     ]
    }
   ],
   "source": [
    "print(np.__version__)"
   ]
  },
  {
   "cell_type": "markdown",
   "id": "b3fcc3ab",
   "metadata": {},
   "source": [
    "##### Step2. Define the functions you need to use when learning"
   ]
  },
  {
   "cell_type": "markdown",
   "id": "df1bebcf",
   "metadata": {},
   "source": [
    "2.1 define"
   ]
  },
  {
   "cell_type": "code",
   "execution_count": 4,
   "id": "895e9942-a089-476b-824b-e49c8cd4123a",
   "metadata": {},
   "outputs": [],
   "source": [
    "class WebGame(Env):\n",
    "    def __init__(self):\n",
    "        super().__init__()\n",
    "        self.observation_space = Box(low=0, high=255,shape=(1,83,100),dtype=np.uint8)\n",
    "        self.action_space = Discrete(3)\n",
    "\n",
    "        self.cap = mss()\n",
    "        self.game_location = {'top': 375, 'left': 900, 'width': 250, 'height': 250}\n",
    "        self.done_location = {'top': 440, 'left': 1120, 'width': 300, 'height': 35}\n",
    "\n",
    "    def step(self, action):\n",
    "        action_map = {\n",
    "          0: 'space',\n",
    "          1: 'down',\n",
    "          2: 'no_op'\n",
    "        }\n",
    "    \n",
    "        if action != 2:\n",
    "            pydirectinput.press(action_map[action])\n",
    "\n",
    "        done, done_cap = self.get_done()\n",
    "        observation = self.get_observation()\n",
    "        reward = 1\n",
    "    \n",
    "        terminated = done \n",
    "        truncated = False\n",
    "\n",
    "        info = {}\n",
    "        return observation, reward, terminated, truncated, info\n",
    "    \n",
    "    def render(self):\n",
    "        cv2.imshow('Game', np.array(self.cap.grab(self.game_location))[:,:,:3])\n",
    "        if cv2.waitKey(1) & 0xFF == ord('q'):\n",
    "            self.close()\n",
    "        \n",
    "    def reset(self, seed=None, options=None):\n",
    "        super().reset(seed=seed)\n",
    "        time.sleep(1)\n",
    "        pydirectinput.click(x=150, y=150)\n",
    "        pydirectinput.press('space')\n",
    "        observation = self.get_observation()\n",
    "        return observation, {}\n",
    "\n",
    "    def close(self):\n",
    "        cv2.destroyAllWindows()\n",
    "        \n",
    "    def get_observation(self):\n",
    "        raw = np.array(self.cap.grab(self.game_location))[:,:,:3]\n",
    "        gray = cv2.cvtColor(raw, cv2.COLOR_BGR2GRAY)\n",
    "        resized = cv2.resize(gray, (100,83))\n",
    "        channel = np.reshape(resized, (1,83,100))\n",
    "        return channel\n",
    "\n",
    "        \n",
    "    def get_done(self):\n",
    "        done_cap = np.array(self.cap.grab(self.done_location))[:,:,:3]\n",
    "        done_strings = ['GAME']\n",
    "        done = False\n",
    "        res = pytesseract.image_to_string(done_cap)[:4]\n",
    "        if res in done_strings:\n",
    "            done = True\n",
    "        return done, done_cap"
   ]
  },
  {
   "cell_type": "markdown",
   "id": "df810fc4-4f42-47d1-abfc-77d8c8a31a17",
   "metadata": {},
   "source": [
    "2.2 test"
   ]
  },
  {
   "cell_type": "code",
   "execution_count": 5,
   "id": "2a01f481-6036-4035-a64c-b4bab7c122a4",
   "metadata": {},
   "outputs": [],
   "source": [
    "env = WebGame()"
   ]
  },
  {
   "cell_type": "code",
   "execution_count": 6,
   "id": "74cffcec-16f3-4f4b-b3d2-4c8ee7ee544f",
   "metadata": {},
   "outputs": [],
   "source": [
    "obs=env.get_observation()"
   ]
  },
  {
   "cell_type": "markdown",
   "id": "d85265bb-a97b-4e89-806a-b77fc588bcf4",
   "metadata": {},
   "source": [
    "Check if the observation space includes both the dinosaur and the obstacles ahead."
   ]
  },
  {
   "cell_type": "code",
   "execution_count": 7,
   "id": "adc52763-adaf-4914-bf68-8b3baf1b4ed6",
   "metadata": {},
   "outputs": [
    {
     "data": {
      "text/plain": [
       "<matplotlib.image.AxesImage at 0x1bcdff01c50>"
      ]
     },
     "execution_count": 7,
     "metadata": {},
     "output_type": "execute_result"
    },
    {
     "data": {
      "image/png": "[encoded data removed]",
      "text/plain": [
       "<Figure size 640x480 with 1 Axes>"
      ]
     },
     "metadata": {},
     "output_type": "display_data"
    }
   ],
   "source": [
    "plt.imshow(cv2.cvtColor(obs[0], cv2.COLOR_GRAY2BGR))"
   ]
  },
  {
   "cell_type": "markdown",
   "id": "b50aba57-7cc2-4386-914f-c6a056d4ea08",
   "metadata": {},
   "source": [
    "Check if the GAME-OVER space can detect the \"GAME\" text."
   ]
  },
  {
   "cell_type": "code",
   "execution_count": 8,
   "id": "16df6779-2c81-4c34-ae98-ca527607722c",
   "metadata": {},
   "outputs": [],
   "source": [
    "done, done_cap = env.get_done()"
   ]
  },
  {
   "cell_type": "code",
   "execution_count": 9,
   "id": "4ea39772-31e3-4be3-ad17-cdd0fd123114",
   "metadata": {},
   "outputs": [
    {
     "data": {
      "text/plain": [
       "<matplotlib.image.AxesImage at 0x1bc941824d0>"
      ]
     },
     "execution_count": 9,
     "metadata": {},
     "output_type": "execute_result"
    },
    {
     "data": {
      "image/png": "[encoded data removed]",
      "text/plain": [
       "<Figure size 640x480 with 1 Axes>"
      ]
     },
     "metadata": {},
     "output_type": "display_data"
    }
   ],
   "source": [
    "plt.imshow(done_cap)"
   ]
  },
  {
   "cell_type": "code",
   "execution_count": 10,
   "id": "d6249192-5b99-4b5b-a1af-f597b8884470",
   "metadata": {},
   "outputs": [
    {
     "data": {
      "text/plain": [
       "'GAME'"
      ]
     },
     "execution_count": 10,
     "metadata": {},
     "output_type": "execute_result"
    }
   ],
   "source": [
    "pytesseract.image_to_string(done_cap)[:4]"
   ]
  },
  {
   "cell_type": "code",
   "execution_count": 11,
   "id": "4575bd4e-7772-4e28-ace2-22ffe2473597",
   "metadata": {},
   "outputs": [
    {
     "data": {
      "text/plain": [
       "True"
      ]
     },
     "execution_count": 11,
     "metadata": {},
     "output_type": "execute_result"
    }
   ],
   "source": [
    "done"
   ]
  },
  {
   "cell_type": "markdown",
   "id": "0075d065-2a5e-43a0-a906-8397ca3df28e",
   "metadata": {},
   "source": [
    "Check if the program can loop correctly, as this will help the program train itself effectively."
   ]
  },
  {
   "cell_type": "code",
   "execution_count": 12,
   "id": "7d5e9231-5957-4b76-8d79-9b57163348b9",
   "metadata": {},
   "outputs": [
    {
     "name": "stdout",
     "output_type": "stream",
     "text": [
      "Total Reward for episode 0 is 16\n",
      "Total Reward for episode 1 is 15\n",
      "Total Reward for episode 2 is 15\n"
     ]
    }
   ],
   "source": [
    "for episode in range(3): \n",
    "    obs = env.reset()\n",
    "    done = False  \n",
    "    total_reward   = 0\n",
    "    while not done: \n",
    "        obs, reward,  done, rrr, info =  env.step(env.action_space.sample())\n",
    "        total_reward  += reward\n",
    "    print('Total Reward for episode {} is {}'.format(episode, total_reward))    "
   ]
  },
  {
   "cell_type": "code",
   "execution_count": 13,
   "id": "423fb097-ba05-40b2-bee4-904cfb36752c",
   "metadata": {},
   "outputs": [],
   "source": [
    "env_checker.check_env(env)"
   ]
  },
  {
   "cell_type": "markdown",
   "id": "8f3ea2a3",
   "metadata": {},
   "source": [
    "##### Step3. Train our model"
   ]
  },
  {
   "cell_type": "markdown",
   "id": "29ed229a-9492-47c0-ae28-22d829819da1",
   "metadata": {},
   "source": [
    "3.1 Define callback function"
   ]
  },
  {
   "cell_type": "code",
   "execution_count": 14,
   "id": "dd3119ba-7c58-4a7a-896a-bb2e5bcf1324",
   "metadata": {},
   "outputs": [],
   "source": [
    "class TrainAndLoggingCallback(BaseCallback):\n",
    "\n",
    "    def __init__(self, check_freq, save_path, verbose=1):\n",
    "        super(TrainAndLoggingCallback, self).__init__(verbose)\n",
    "        self.check_freq = check_freq\n",
    "        self.save_path = save_path\n",
    "\n",
    "    def _init_callback(self):\n",
    "        if self.save_path is not None:\n",
    "            os.makedirs(self.save_path, exist_ok=True)\n",
    "\n",
    "    def _on_step(self):\n",
    "        if self.n_calls % self.check_freq == 0:\n",
    "            model_path = os.path.join(self.save_path, 'best_model_{}'.format(self.n_calls))\n",
    "            self.model.save(model_path)\n",
    "\n",
    "        return True"
   ]
  },
  {
   "cell_type": "code",
   "execution_count": 15,
   "id": "cb320ed7-ee7e-4f66-819f-5426596ceb8b",
   "metadata": {},
   "outputs": [],
   "source": [
    "CHECKPOINT_DIR = './train/'\n",
    "LOG_DIR = './logs/'"
   ]
  },
  {
   "cell_type": "code",
   "execution_count": 16,
   "id": "2c55ec88-817e-4919-8178-2c45e6afd032",
   "metadata": {},
   "outputs": [],
   "source": [
    "callback = TrainAndLoggingCallback(check_freq=1000, save_path=CHECKPOINT_DIR)"
   ]
  },
  {
   "cell_type": "markdown",
   "id": "48fce60d-1f4e-40c9-aad4-1f601cd4c531",
   "metadata": {},
   "source": [
    "3.2 Use the DQN model from stable_baselines3 for training."
   ]
  },
  {
   "cell_type": "code",
   "execution_count": 17,
   "id": "b19646ce-e3c3-46ef-81e9-f955d4890def",
   "metadata": {},
   "outputs": [],
   "source": [
    "env = WebGame()"
   ]
  },
  {
   "cell_type": "code",
   "execution_count": 18,
   "id": "5fe07014-f967-4b52-a44c-11c538fb150e",
   "metadata": {},
   "outputs": [
    {
     "name": "stdout",
     "output_type": "stream",
     "text": [
      "Using cpu device\n",
      "Wrapping the env with a `Monitor` wrapper\n",
      "Wrapping the env in a DummyVecEnv.\n"
     ]
    }
   ],
   "source": [
    "model = DQN('CnnPolicy', env, tensorboard_log=LOG_DIR, verbose=1, \n",
    "            buffer_size=300000, learning_starts=1)"
   ]
  },
  {
   "cell_type": "markdown",
   "id": "d3f5c480-3314-4386-a886-6968b48fd973",
   "metadata": {},
   "source": [
    "Here, totalsteps is a tunable hyperparameter. If the training performance is unsatisfactory, please increase totalsteps, but be aware that this will also increase the training time."
   ]
  },
  {
   "cell_type": "markdown",
   "id": "3bef6449-be82-43c6-876c-df3eb7fb00ef",
   "metadata": {},
   "source": [
    "Here, 1000 is just a test number used before submitting to GitHub to check if the program can train itself successfully. To achieve successful training results, please set a larger totalsteps, such as 5000000."
   ]
  },
  {
   "cell_type": "code",
   "execution_count": 19,
   "id": "f95dce65-e9b5-4de5-83d3-b587618dae3f",
   "metadata": {},
   "outputs": [
    {
     "name": "stdout",
     "output_type": "stream",
     "text": [
      "Logging to ./logs/DQN_1\n",
      "----------------------------------\n",
      "| rollout/            |          |\n",
      "|    ep_len_mean      | 13.8     |\n",
      "|    ep_rew_mean      | 13.8     |\n",
      "|    exploration_rate | 0.477    |\n",
      "| time/               |          |\n",
      "|    episodes         | 4        |\n",
      "|    fps              | 2        |\n",
      "|    time_elapsed     | 27       |\n",
      "|    total_timesteps  | 55       |\n",
      "| train/              |          |\n",
      "|    learning_rate    | 0.0001   |\n",
      "|    loss             | 0.0677   |\n",
      "|    n_updates        | 13       |\n",
      "----------------------------------\n",
      "----------------------------------\n",
      "| rollout/            |          |\n",
      "|    ep_len_mean      | 12.8     |\n",
      "|    ep_rew_mean      | 12.8     |\n",
      "|    exploration_rate | 0.05     |\n",
      "| time/               |          |\n",
      "|    episodes         | 8        |\n",
      "|    fps              | 1        |\n",
      "|    time_elapsed     | 52       |\n",
      "|    total_timesteps  | 102      |\n",
      "| train/              |          |\n",
      "|    learning_rate    | 0.0001   |\n",
      "|    loss             | 0.00498  |\n",
      "|    n_updates        | 25       |\n",
      "----------------------------------\n",
      "----------------------------------\n",
      "| rollout/            |          |\n",
      "|    ep_len_mean      | 12.3     |\n",
      "|    ep_rew_mean      | 12.3     |\n",
      "|    exploration_rate | 0.05     |\n",
      "| time/               |          |\n",
      "|    episodes         | 12       |\n",
      "|    fps              | 1        |\n",
      "|    time_elapsed     | 79       |\n",
      "|    total_timesteps  | 148      |\n",
      "| train/              |          |\n",
      "|    learning_rate    | 0.0001   |\n",
      "|    loss             | 0.00363  |\n",
      "|    n_updates        | 36       |\n",
      "----------------------------------\n",
      "----------------------------------\n",
      "| rollout/            |          |\n",
      "|    ep_len_mean      | 12.7     |\n",
      "|    ep_rew_mean      | 12.7     |\n",
      "|    exploration_rate | 0.05     |\n",
      "| time/               |          |\n",
      "|    episodes         | 16       |\n",
      "|    fps              | 1        |\n",
      "|    time_elapsed     | 104      |\n",
      "|    total_timesteps  | 203      |\n",
      "| train/              |          |\n",
      "|    learning_rate    | 0.0001   |\n",
      "|    loss             | 0.00142  |\n",
      "|    n_updates        | 50       |\n",
      "----------------------------------\n",
      "----------------------------------\n",
      "| rollout/            |          |\n",
      "|    ep_len_mean      | 12.2     |\n",
      "|    ep_rew_mean      | 12.2     |\n",
      "|    exploration_rate | 0.05     |\n",
      "| time/               |          |\n",
      "|    episodes         | 20       |\n",
      "|    fps              | 1        |\n",
      "|    time_elapsed     | 129      |\n",
      "|    total_timesteps  | 244      |\n",
      "| train/              |          |\n",
      "|    learning_rate    | 0.0001   |\n",
      "|    loss             | 0.00019  |\n",
      "|    n_updates        | 60       |\n",
      "----------------------------------\n",
      "----------------------------------\n",
      "| rollout/            |          |\n",
      "|    ep_len_mean      | 12       |\n",
      "|    ep_rew_mean      | 12       |\n",
      "|    exploration_rate | 0.05     |\n",
      "| time/               |          |\n",
      "|    episodes         | 24       |\n",
      "|    fps              | 1        |\n",
      "|    time_elapsed     | 155      |\n",
      "|    total_timesteps  | 288      |\n",
      "| train/              |          |\n",
      "|    learning_rate    | 0.0001   |\n",
      "|    loss             | 0.000124 |\n",
      "|    n_updates        | 71       |\n",
      "----------------------------------\n",
      "----------------------------------\n",
      "| rollout/            |          |\n",
      "|    ep_len_mean      | 13.6     |\n",
      "|    ep_rew_mean      | 13.6     |\n",
      "|    exploration_rate | 0.05     |\n",
      "| time/               |          |\n",
      "|    episodes         | 28       |\n",
      "|    fps              | 2        |\n",
      "|    time_elapsed     | 184      |\n",
      "|    total_timesteps  | 382      |\n",
      "| train/              |          |\n",
      "|    learning_rate    | 0.0001   |\n",
      "|    loss             | 9.27e-05 |\n",
      "|    n_updates        | 95       |\n",
      "----------------------------------\n",
      "----------------------------------\n",
      "| rollout/            |          |\n",
      "|    ep_len_mean      | 14.9     |\n",
      "|    ep_rew_mean      | 14.9     |\n",
      "|    exploration_rate | 0.05     |\n",
      "| time/               |          |\n",
      "|    episodes         | 32       |\n",
      "|    fps              | 2        |\n",
      "|    time_elapsed     | 213      |\n",
      "|    total_timesteps  | 476      |\n",
      "| train/              |          |\n",
      "|    learning_rate    | 0.0001   |\n",
      "|    loss             | 4.01e-05 |\n",
      "|    n_updates        | 118      |\n",
      "----------------------------------\n",
      "----------------------------------\n",
      "| rollout/            |          |\n",
      "|    ep_len_mean      | 15.5     |\n",
      "|    ep_rew_mean      | 15.5     |\n",
      "|    exploration_rate | 0.05     |\n",
      "| time/               |          |\n",
      "|    episodes         | 36       |\n",
      "|    fps              | 2        |\n",
      "|    time_elapsed     | 239      |\n",
      "|    total_timesteps  | 558      |\n",
      "| train/              |          |\n",
      "|    learning_rate    | 0.0001   |\n",
      "|    loss             | 9.44e-05 |\n",
      "|    n_updates        | 139      |\n",
      "----------------------------------\n",
      "----------------------------------\n",
      "| rollout/            |          |\n",
      "|    ep_len_mean      | 16.4     |\n",
      "|    ep_rew_mean      | 16.4     |\n",
      "|    exploration_rate | 0.05     |\n",
      "| time/               |          |\n",
      "|    episodes         | 40       |\n",
      "|    fps              | 2        |\n",
      "|    time_elapsed     | 265      |\n",
      "|    total_timesteps  | 657      |\n",
      "| train/              |          |\n",
      "|    learning_rate    | 0.0001   |\n",
      "|    loss             | 6.5e-05  |\n",
      "|    n_updates        | 164      |\n",
      "----------------------------------\n",
      "----------------------------------\n",
      "| rollout/            |          |\n",
      "|    ep_len_mean      | 17.4     |\n",
      "|    ep_rew_mean      | 17.4     |\n",
      "|    exploration_rate | 0.05     |\n",
      "| time/               |          |\n",
      "|    episodes         | 44       |\n",
      "|    fps              | 2        |\n",
      "|    time_elapsed     | 299      |\n",
      "|    total_timesteps  | 764      |\n",
      "| train/              |          |\n",
      "|    learning_rate    | 0.0001   |\n",
      "|    loss             | 4.75e-05 |\n",
      "|    n_updates        | 190      |\n",
      "----------------------------------\n",
      "----------------------------------\n",
      "| rollout/            |          |\n",
      "|    ep_len_mean      | 17.1     |\n",
      "|    ep_rew_mean      | 17.1     |\n",
      "|    exploration_rate | 0.05     |\n",
      "| time/               |          |\n",
      "|    episodes         | 48       |\n",
      "|    fps              | 2        |\n",
      "|    time_elapsed     | 324      |\n",
      "|    total_timesteps  | 821      |\n",
      "| train/              |          |\n",
      "|    learning_rate    | 0.0001   |\n",
      "|    loss             | 0.000111 |\n",
      "|    n_updates        | 205      |\n",
      "----------------------------------\n",
      "----------------------------------\n",
      "| rollout/            |          |\n",
      "|    ep_len_mean      | 17.5     |\n",
      "|    ep_rew_mean      | 17.5     |\n",
      "|    exploration_rate | 0.05     |\n",
      "| time/               |          |\n",
      "|    episodes         | 52       |\n",
      "|    fps              | 2        |\n",
      "|    time_elapsed     | 351      |\n",
      "|    total_timesteps  | 910      |\n",
      "| train/              |          |\n",
      "|    learning_rate    | 0.0001   |\n",
      "|    loss             | 4.92e-05 |\n",
      "|    n_updates        | 227      |\n",
      "----------------------------------\n",
      "----------------------------------\n",
      "| rollout/            |          |\n",
      "|    ep_len_mean      | 17.5     |\n",
      "|    ep_rew_mean      | 17.5     |\n",
      "|    exploration_rate | 0.05     |\n",
      "| time/               |          |\n",
      "|    episodes         | 56       |\n",
      "|    fps              | 2        |\n",
      "|    time_elapsed     | 376      |\n",
      "|    total_timesteps  | 979      |\n",
      "| train/              |          |\n",
      "|    learning_rate    | 0.0001   |\n",
      "|    loss             | 7.19e-05 |\n",
      "|    n_updates        | 244      |\n",
      "----------------------------------\n"
     ]
    },
    {
     "data": {
      "text/plain": [
       "<stable_baselines3.dqn.dqn.DQN at 0x1bc900ba2d0>"
      ]
     },
     "execution_count": 19,
     "metadata": {},
     "output_type": "execute_result"
    }
   ],
   "source": [
    "model.learn(total_timesteps=1000, callback=callback)"
   ]
  },
  {
   "cell_type": "markdown",
   "id": "d34986f1-9f50-4f1e-836c-dc6817261956",
   "metadata": {},
   "source": [
    "##### Step4. Test our model"
   ]
  },
  {
   "cell_type": "markdown",
   "id": "5539ed65-cde8-410a-9625-f3a48232168a",
   "metadata": {},
   "source": [
    "Now that we've successfully trained our model, we can test the training results of the model."
   ]
  },
  {
   "cell_type": "code",
   "execution_count": 47,
   "id": "be55e9c7-31cb-4ee5-8b7d-3487d15aac91",
   "metadata": {},
   "outputs": [
    {
     "name": "stdout",
     "output_type": "stream",
     "text": [
      "Total Reward for episode 0 is 18\n"
     ]
    }
   ],
   "source": [
    "for episode in range(1): \n",
    "    obs, _ = env.reset()\n",
    "    done = False  \n",
    "    total_reward = 0\n",
    "    while not done: \n",
    "        action, _ = model.predict(obs)\n",
    "        obs, reward, done, rrr, info = env.step(int(action))\n",
    "        time.sleep(0.01)\n",
    "        total_reward += reward\n",
    "    print('Total Reward for episode {} is {}'.format(episode, total_reward))    \n",
    "    time.sleep(2)"
   ]
  },
  {
   "cell_type": "markdown",
   "id": "5ac9919f-5465-41be-ba06-65bbfd599753",
   "metadata": {},
   "source": [
    "P.S. I didn't use Google's official Dinosaur Game webpage. Instead, I used the page provided by https://trex-runner.com/ and zoomed out the webpage to 67%. Otherwise, game_location and done_location may not obtain the correct information."
   ]
  }
 ],
 "metadata": {
  "kernelspec": {
   "display_name": "Python 3 (ipykernel)",
   "language": "python",
   "name": "python3"
  },
  "language_info": {
   "codemirror_mode": {
    "name": "ipython",
    "version": 3
   },
   "file_extension": ".py",
   "mimetype": "text/x-python",
   "name": "python",
   "nbconvert_exporter": "python",
   "pygments_lexer": "ipython3",
   "version": "3.11.5"
  }
 },
 "nbformat": 4,
 "nbformat_minor": 5
}
